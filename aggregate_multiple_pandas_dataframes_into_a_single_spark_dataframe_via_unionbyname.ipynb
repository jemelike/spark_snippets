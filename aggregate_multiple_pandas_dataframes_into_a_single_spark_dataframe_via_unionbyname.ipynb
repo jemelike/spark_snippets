{
  "nbformat": 4,
  "nbformat_minor": 0,
  "metadata": {
    "colab": {
      "provenance": [],
      "authorship_tag": "ABX9TyOok7NpuRseIEcVF0v1I+78",
      "include_colab_link": true
    },
    "kernelspec": {
      "name": "python3",
      "display_name": "Python 3"
    },
    "language_info": {
      "name": "python"
    }
  },
  "cells": [
    {
      "cell_type": "markdown",
      "metadata": {
        "id": "view-in-github",
        "colab_type": "text"
      },
      "source": [
        "<a href=\"https://colab.research.google.com/github/jemelike/spark_snippets/blob/main/aggregate_multiple_pandas_dataframes_into_a_single_spark_dataframe_via_unionbyname.ipynb\" target=\"_parent\"><img src=\"https://colab.research.google.com/assets/colab-badge.svg\" alt=\"Open In Colab\"/></a>"
      ]
    },
    {
      "cell_type": "code",
      "execution_count": null,
      "metadata": {
        "colab": {
          "base_uri": "https://localhost:8080/"
        },
        "id": "be5n9wtT0_tU",
        "outputId": "94ebf786-45d8-4f20-9250-73f115193929"
      },
      "outputs": [
        {
          "output_type": "stream",
          "name": "stdout",
          "text": [
            "Looking in indexes: https://pypi.org/simple, https://us-python.pkg.dev/colab-wheels/public/simple/\n",
            "Requirement already satisfied: pandas in /usr/local/lib/python3.7/dist-packages (1.3.5)\n",
            "Requirement already satisfied: numpy in /usr/local/lib/python3.7/dist-packages (1.21.6)\n",
            "Requirement already satisfied: pyspark in /usr/local/lib/python3.7/dist-packages (3.3.1)\n",
            "Requirement already satisfied: python-dateutil>=2.7.3 in /usr/local/lib/python3.7/dist-packages (from pandas) (2.8.2)\n",
            "Requirement already satisfied: pytz>=2017.3 in /usr/local/lib/python3.7/dist-packages (from pandas) (2022.6)\n",
            "Requirement already satisfied: six>=1.5 in /usr/local/lib/python3.7/dist-packages (from python-dateutil>=2.7.3->pandas) (1.15.0)\n",
            "Requirement already satisfied: py4j==0.10.9.5 in /usr/local/lib/python3.7/dist-packages (from pyspark) (0.10.9.5)\n"
          ]
        }
      ],
      "source": [
        "!pip install pandas numpy pyspark"
      ]
    },
    {
      "cell_type": "code",
      "source": [
        "import numpy   as np\n",
        "import pandas  as pd\n",
        "import pyspark as spark"
      ],
      "metadata": {
        "id": "--fAqCIi1x7A"
      },
      "execution_count": null,
      "outputs": []
    },
    {
      "cell_type": "code",
      "source": [
        "def generate_pandas_df(max_num_columns:int=10, max_num_rows:int=10)-> pd.DataFrame:\n",
        "  num_cols = np.random.randint(1, high=max_num_columns)\n",
        "  num_rows = np.random.randint(1, high=max_num_rows)\n",
        "\n",
        "  return pd.DataFrame(np.random.randn(num_rows, num_cols)).copy()"
      ],
      "metadata": {
        "id": "zZ4G9keI4LY1"
      },
      "execution_count": null,
      "outputs": []
    },
    {
      "cell_type": "code",
      "source": [
        "def pad_pandas_df(df: pd.DataFrame, total_field: int, prefix:str=\"FIELD_\") -> pd.DataFrame:\n",
        "  num_rows, num_col = df.shape\n",
        "  new_df = df.copy()\n",
        "  mapping = { k: f\"{prefix}{idx}\" for idx, k in enumerate(new_df.columns) }\n",
        "  new_df = new_df.rename(columns=mapping)\n",
        "\n",
        "  for i in np.arange(len(mapping), total_field):\n",
        "    padded_col = f\"{prefix}{i}\"\n",
        "    new_df[padded_col] = [None] * num_rows\n",
        "  return new_df"
      ],
      "metadata": {
        "id": "PiS29pWb4K9-"
      },
      "execution_count": null,
      "outputs": []
    },
    {
      "cell_type": "code",
      "source": [
        "def build_generic_schema(df:pd.DataFrame)->pd.DataFrame:\n",
        "  return spark.sql.types.StructType([ spark.sql.types.StructField(col,spark.sql.types.StringType(),True) for col in df.columns ])"
      ],
      "metadata": {
        "id": "EssB36meLLF8"
      },
      "execution_count": null,
      "outputs": []
    },
    {
      "cell_type": "code",
      "source": [
        "# Generate pd.DataFrames\n",
        "pandas_dataframes = [generate_pandas_df() for i in range(250)]\n",
        "\n",
        "# Determine the maximum number of columns\n",
        "NUM_FIELDS      = max([ df.shape[1] for df in pandas_dataframes])\n",
        "TOTAL_ROW_COUNT = sum([ df.shape[0] for df in pandas_dataframes])\n",
        "TOTAL_COL_COUNT = NUM_FIELDS + 1 # Accounts for the added column\n",
        "# Pad Datafranes\n",
        "padded_pandas_dataframes = [pad_pandas_df(df, NUM_FIELDS) for df in pandas_dataframes]\n",
        "# del pandas_dataframes\n"
      ],
      "metadata": {
        "id": "vnpCDvj_DRyF"
      },
      "execution_count": null,
      "outputs": []
    },
    {
      "cell_type": "code",
      "source": [
        "assert len(set([ df.shape[1] for df in padded_pandas_dataframes])) == 1, \"DataFrames do not contain the same number of columns.\""
      ],
      "metadata": {
        "id": "v_7qbNuIDuF9"
      },
      "execution_count": null,
      "outputs": []
    },
    {
      "cell_type": "code",
      "source": [
        "spark_session = spark.sql.SparkSession.builder.master(\"local\").appName(\"app-unionByName-exercise\").getOrCreate()\n"
      ],
      "metadata": {
        "id": "qpX2A3sQJf9f"
      },
      "execution_count": null,
      "outputs": []
    },
    {
      "cell_type": "markdown",
      "source": [],
      "metadata": {
        "id": "hx8NPxsPNppB"
      }
    },
    {
      "cell_type": "code",
      "source": [
        "# Test\n",
        "spark_dataframes =[spark_session.createDataFrame(df, schema=build_generic_schema(df)).selectExpr(f\"'table_no_{table_no}' as TABLE_no\",'*') for table_no,df in enumerate(padded_pandas_dataframes)]\n",
        "del padded_pandas_dataframes"
      ],
      "metadata": {
        "id": "p_fOVpQnI8pt"
      },
      "execution_count": null,
      "outputs": []
    },
    {
      "cell_type": "code",
      "source": [
        "main_df = None\n",
        "for union_count, df in enumerate(spark_dataframes):\n",
        "  if main_df is None:\n",
        "    main_df = df.alias(\"main\")\n",
        "  else:\n",
        "    main_df = df.unionByName(main_df).alias(f\"main_{union_count}\")\n",
        "  print(f\"Union {union_count}\")"
      ],
      "metadata": {
        "id": "n2Bi4bp6N1K8"
      },
      "execution_count": null,
      "outputs": []
    },
    {
      "cell_type": "code",
      "source": [
        "main_df.show()"
      ],
      "metadata": {
        "colab": {
          "base_uri": "https://localhost:8080/"
        },
        "id": "zi7hBABdy25u",
        "outputId": "0ed06137-ecf3-4cfd-b1c9-7b2778ac7bd0"
      },
      "execution_count": null,
      "outputs": [
        {
          "output_type": "stream",
          "name": "stdout",
          "text": [
            "+------------+--------------------+-------------------+--------------------+-------------------+-------------------+-------------------+------------------+--------------------+-------+\n",
            "|    TABLE_no|             FIELD_0|            FIELD_1|             FIELD_2|            FIELD_3|            FIELD_4|            FIELD_5|           FIELD_6|             FIELD_7|FIELD_8|\n",
            "+------------+--------------------+-------------------+--------------------+-------------------+-------------------+-------------------+------------------+--------------------+-------+\n",
            "|table_no_249| -0.9505574125247941| 0.5391903961618045| -0.6815839660129692| 1.3091440803905519|               null|               null|              null|                null|   null|\n",
            "|table_no_249|  1.4502969521656452|-0.2824001578351148|   2.084311639050579| 1.2200922181393752|               null|               null|              null|                null|   null|\n",
            "|table_no_248| -1.1661180190870344| 1.1363926436977319| -0.8492702906038235|-0.6274478175869479| 0.2532678582766362|-0.2722065124720248|-0.606837574455455|-0.02146940891538...|   null|\n",
            "|table_no_248| -1.1962551769076064| -2.200694001678494| -1.6454958924131287| 0.5610513396190405| -0.512360791129987|-0.7794655482158195| 2.075548545113826|  0.2036115743616064|   null|\n",
            "|table_no_248|  0.8487464447238713| 1.4849801555850313|-0.02999924223583651|-0.4041372293343034| -0.272747361633859|-0.8095017770774906|-1.076841089788222| -0.7094369658954043|   null|\n",
            "|table_no_248|   0.613130096096452|-0.6820302187678149| -0.5956138892498702|-0.9122400184348666|-0.3744685460368742| 0.6357515430958989|1.0992253521594826| 0.44017895068158497|   null|\n",
            "|table_no_248| -1.0557186192736516| 0.5790219042605481| -1.3966381345177525|-0.7668412609824277|-0.7841363077225862|-0.7151000558416886| 0.585901973167607|  1.2021723730649154|   null|\n",
            "|table_no_247| -1.8222757244530905|-0.8917328548110182| -0.8735203469302452|  1.454074440218841|-0.5902879115542963|               null|              null|                null|   null|\n",
            "|table_no_247| -0.2459870125149717|-0.5530070039417319|  0.6455150055461937|-0.8787444053972493|-1.6676560326016603|               null|              null|                null|   null|\n",
            "|table_no_247| -0.4682469195424241|-0.9357948394200484| 0.44524420466972736| 0.9104977052282958|0.36874757202601205|               null|              null|                null|   null|\n",
            "|table_no_247|  -1.425915487933473|-0.3819006028675252|  2.7626684556555916| 3.0699715155478837|0.21248726636132287|               null|              null|                null|   null|\n",
            "|table_no_247| -0.9081226863450058|-1.2153816932559556|  0.7851330913726278| 1.7954806597867305|-0.9984465758848516|               null|              null|                null|   null|\n",
            "|table_no_247|-0.07623226755946362| 0.2700136601418448| -0.7963105513314633|-1.3386496092631883|-0.6298300183668379|               null|              null|                null|   null|\n",
            "|table_no_247|  -1.625930254120639|0.11787336272529132|   -1.63064496916744| -1.110890545481305| 0.7556471990155721|               null|              null|                null|   null|\n",
            "|table_no_246| -0.8561760461997667|0.10081391401114204|  0.9696446317242046|               null|               null|               null|              null|                null|   null|\n",
            "|table_no_246| 0.15268671208179335|-0.5490783701350771|  0.8622602911530513|               null|               null|               null|              null|                null|   null|\n",
            "|table_no_246| 0.35760798329164817| 0.1568860600230784| -1.2874477179907333|               null|               null|               null|              null|                null|   null|\n",
            "|table_no_246|-0.24532505062513424|-1.3718162863344037|  0.9286261655126403|               null|               null|               null|              null|                null|   null|\n",
            "|table_no_246|  0.9679490081364511|-1.2781838682051452|  1.7983527062450984|               null|               null|               null|              null|                null|   null|\n",
            "|table_no_246|  0.8972725148257071| 0.6348558325832562|    0.80311980453953|               null|               null|               null|              null|                null|   null|\n",
            "+------------+--------------------+-------------------+--------------------+-------------------+-------------------+-------------------+------------------+--------------------+-------+\n",
            "only showing top 20 rows\n",
            "\n"
          ]
        }
      ]
    },
    {
      "cell_type": "code",
      "source": [
        "assert main_df.count() == TOTAL_ROW_COUNT, \"Missing rows from union\""
      ],
      "metadata": {
        "id": "A-4tkKb2PJqM"
      },
      "execution_count": null,
      "outputs": []
    },
    {
      "cell_type": "code",
      "source": [
        "assert len(main_df.columns) == TOTAL_COL_COUNT, \"Missing columns from union\""
      ],
      "metadata": {
        "id": "pehcHVcUPafU"
      },
      "execution_count": null,
      "outputs": []
    }
  ]
}