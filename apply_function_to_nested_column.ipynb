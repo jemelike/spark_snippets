{
  "nbformat": 4,
  "nbformat_minor": 0,
  "metadata": {
    "colab": {
      "provenance": [],
      "authorship_tag": "ABX9TyNdHdiXdTfiGHk6OEZAbtLk",
      "include_colab_link": true
    },
    "kernelspec": {
      "name": "python3",
      "display_name": "Python 3"
    },
    "language_info": {
      "name": "python"
    }
  },
  "cells": [
    {
      "cell_type": "markdown",
      "metadata": {
        "id": "view-in-github",
        "colab_type": "text"
      },
      "source": [
        "<a href=\"https://colab.research.google.com/github/jemelike/spark_snippets/blob/main/apply_function_to_nested_column.ipynb\" target=\"_parent\"><img src=\"https://colab.research.google.com/assets/colab-badge.svg\" alt=\"Open In Colab\"/></a>"
      ]
    },
    {
      "cell_type": "code",
      "execution_count": null,
      "metadata": {
        "colab": {
          "base_uri": "https://localhost:8080/"
        },
        "id": "OaS9RiqJ_Tqq",
        "outputId": "ecb99a6c-717e-4e20-f429-536f30f24730"
      },
      "outputs": [
        {
          "output_type": "stream",
          "name": "stdout",
          "text": [
            "Looking in indexes: https://pypi.org/simple, https://us-python.pkg.dev/colab-wheels/public/simple/\n",
            "Collecting pyspark\n",
            "  Downloading pyspark-3.3.2.tar.gz (281.4 MB)\n",
            "\u001b[2K     \u001b[90m━━━━━━━━━━━━━━━━━━━━━━━━━━━━━━━━━━━━━━━\u001b[0m \u001b[32m281.4/281.4 MB\u001b[0m \u001b[31m4.9 MB/s\u001b[0m eta \u001b[36m0:00:00\u001b[0m\n",
            "\u001b[?25h  Preparing metadata (setup.py) ... \u001b[?25l\u001b[?25hdone\n",
            "Requirement already satisfied: numpy in /usr/local/lib/python3.9/dist-packages (1.22.4)\n",
            "Requirement already satisfied: pandas in /usr/local/lib/python3.9/dist-packages (1.4.4)\n",
            "Collecting py4j==0.10.9.5\n",
            "  Downloading py4j-0.10.9.5-py2.py3-none-any.whl (199 kB)\n",
            "\u001b[2K     \u001b[90m━━━━━━━━━━━━━━━━━━━━━━━━━━━━━━━━━━━━━\u001b[0m \u001b[32m199.7/199.7 KB\u001b[0m \u001b[31m725.2 kB/s\u001b[0m eta \u001b[36m0:00:00\u001b[0m\n",
            "\u001b[?25hRequirement already satisfied: python-dateutil>=2.8.1 in /usr/local/lib/python3.9/dist-packages (from pandas) (2.8.2)\n",
            "Requirement already satisfied: pytz>=2020.1 in /usr/local/lib/python3.9/dist-packages (from pandas) (2022.7.1)\n",
            "Requirement already satisfied: six>=1.5 in /usr/local/lib/python3.9/dist-packages (from python-dateutil>=2.8.1->pandas) (1.15.0)\n",
            "Building wheels for collected packages: pyspark\n",
            "  Building wheel for pyspark (setup.py) ... \u001b[?25l\u001b[?25hdone\n",
            "  Created wheel for pyspark: filename=pyspark-3.3.2-py2.py3-none-any.whl size=281824028 sha256=d84f343d55e3a3d361cd662c083eb4ee39cf9b169f7825b7263a3e5966aec2e8\n",
            "  Stored in directory: /root/.cache/pip/wheels/6c/e3/9b/0525ce8a69478916513509d43693511463c6468db0de237c86\n",
            "Successfully built pyspark\n",
            "Installing collected packages: py4j, pyspark\n",
            "  Attempting uninstall: py4j\n",
            "    Found existing installation: py4j 0.10.9.7\n",
            "    Uninstalling py4j-0.10.9.7:\n",
            "      Successfully uninstalled py4j-0.10.9.7\n",
            "Successfully installed py4j-0.10.9.5 pyspark-3.3.2\n"
          ]
        }
      ],
      "source": [
        "!pip install pyspark numpy pandas"
      ]
    },
    {
      "cell_type": "code",
      "source": [
        "import numpy as np\n",
        "from datetime import datetime,timezone\n",
        "import pandas as pd\n",
        "import pyspark\n",
        "import pyspark.sql.functions as F \n",
        "import pyspark.sql.types as T\n",
        "from pyspark.sql import SparkSession\n",
        "\n",
        "import re"
      ],
      "metadata": {
        "id": "hpn74Mnh_WGg"
      },
      "execution_count": null,
      "outputs": []
    },
    {
      "cell_type": "code",
      "source": [
        "spark = SparkSession.builder.master(\"local[1]\") \\\n",
        "                    .appName('SparkByExamples.com') \\\n",
        "                    .getOrCreate()"
      ],
      "metadata": {
        "id": "jurvB9CTIHod"
      },
      "execution_count": null,
      "outputs": []
    },
    {
      "cell_type": "code",
      "source": [
        "data = [\n",
        "    (1,'value_1',\n",
        "     [ 'value_2','value_3','value_4','value_5'], \n",
        "     [ ('value_6',('value_6','value_7','value_8','value_9'),'value_8','value_9')], \n",
        "     ('value_6','value_7','value_8','value_9'),\n",
        "     ('value_6',('value_6','value_7','value_8','value_9')))\n",
        " ]\n",
        "t     = datetime.now(timezone.utc)\n",
        "now   = t.strftime('%Y%m%d')\n",
        "now2  = t.strftime('%Y/%m/%d')\n",
        "now3  = t.strftime('%Y.%m.%d')\n",
        "now4  = t.strftime('%Y-%m-%dT%H:%M:%S')\n",
        "data2 = [(now,now2,now3,now4)]\n",
        "\n",
        "nested_example =( data, ['ID','EntirelyFlatTest','ArrayOfNonIterable','ArrayOfIterable','SingleLeveLStruct','HeavilyNestedExample1'])\n",
        "\n",
        "datetime_normalization = (data2,[\"date_1\",\"date_2\",\"date_3\",\"date_4\"])\n",
        "\n",
        "\n",
        "df = spark.createDataFrame(*nested_example)\n"
      ],
      "metadata": {
        "id": "NHqiHms1JCj1"
      },
      "execution_count": null,
      "outputs": []
    },
    {
      "cell_type": "code",
      "source": [
        "def flatten_df_struct(df:pyspark.sql.DataFrame,column_to_flatten:str=None, levels:int=1):\n",
        "    flat_columns   = [c for c,t in df.dtypes if not re.search(r'^(struct)',t) ]\n",
        "    struct_columns = [f'{c}.*' for c,t in df.dtypes if re.search(r'^(struct)',t) ]\n",
        "    df.select(flat_columns+struct_columns)\n",
        "    return df.select(flat_columns+struct_columns)"
      ],
      "metadata": {
        "id": "LgcX_deLMJjg"
      },
      "execution_count": null,
      "outputs": []
    },
    {
      "cell_type": "code",
      "source": [
        "def apply_function_to_column(df, column, column_type, func, func_target_type='string', id_column='ID', mod_column_suffix='MOD') :\n",
        "  copy_df = df.alias('copy')\n",
        "  if re.search(rf'^({func_target_type})',column_type):\n",
        "    columns = [ func(column).alias(f'{column}_{mod_column_suffix}') for column in df.columns if column != id_column]\n",
        "    copy_df = copy_df.select(id_column,*columns)    \n",
        "  elif re.search(r'^(array).+',column_type):    \n",
        "    _df = copy_df.select(id_column, F.explode_outer(column).alias(column)).alias('array')\n",
        "    c,t = [(col,typ) for col, typ in _df.dtypes if col == f'{column}' ].pop()\n",
        "    _df = apply_function_to_column(_df,c,t,func,func_target_type,id_column=id_column)  \n",
        "    _df = _df.groupby(id_column).agg(F.collect_list(f'{column}_{mod_column_suffix}').alias(f'{column}_{mod_column_suffix}')).select('*').alias('array')\n",
        "    copy_df = copy_df.join(_df, _df[id_column]==copy_df[id_column]).select('copy.*',f'{column}_{mod_column_suffix}')\n",
        "  elif re.search(r'^(struct).+',column_type):\n",
        "    _df                    = copy_df.select(id_column,f'{column}.*')\n",
        "    flat_apply_columns     = [\n",
        "        func(c).alias(f'{c}_{mod_column_suffix}') for c,t in _df.dtypes if re.search(rf'^({func_target_type})',t) and c != id_column\n",
        "         ]\n",
        "    \n",
        "    nested_apply_columns   = [\n",
        "       (c ,apply_function_to_column(_df.select(id_column,c),c,t,func,func_target_type,id_column=id_column)) for c,t in _df.dtypes if re.search(r'^(struct|array|map)',t) and c != id_column\n",
        "    ]\n",
        "    \n",
        "  \n",
        "    final                  = flat_apply_columns \n",
        "    for c, _df_ in nested_apply_columns:\n",
        "      flatted_df_   = flatten_df_struct(_df_)  \n",
        "      idless        = flatted_df_.drop(id_column)\n",
        "      restructed_df = flatted_df_.select(id_column,F.struct(idless.columns).alias(f'{c}_{mod_column_suffix}')).alias('nested')\n",
        "      _df    = _df.alias('main')\\\n",
        "                  .join( restructed_df,_df[id_column]==restructed_df[id_column] ) \\\n",
        "                  .select('main.*',f'nested.{c}_{mod_column_suffix}').alias(f'{c}_{mod_column_suffix}')\n",
        "      final += [f'{c}_{mod_column_suffix}']\n",
        "    temp_df = _df.select(id_column,*final)\n",
        "    temp_df = temp_df.select(id_column,F.struct(*temp_df.drop(id_column).columns).alias(f'{column}_{mod_column_suffix}'))\n",
        "    copy_df = copy_df.alias('main').join(temp_df.alias('temp'),temp_df[id_column]==copy_df[id_column]).select(\"main.*\",f'{column}_{mod_column_suffix}')\n",
        "  return  copy_df"
      ],
      "metadata": {
        "id": "B45C4jC3q25I"
      },
      "execution_count": null,
      "outputs": []
    },
    {
      "cell_type": "code",
      "source": [
        "c,t = [ (c,t) for c,t in df.dtypes if c=='ArrayOfIterable'].pop()\n",
        "d = apply_function_to_column(df, c,t,F.upper)\n",
        "d.show()"
      ],
      "metadata": {
        "id": "tyYy7oiISjPu",
        "colab": {
          "base_uri": "https://localhost:8080/"
        },
        "outputId": "42d7b606-b752-49ef-f28d-fb4e897ea57d"
      },
      "execution_count": null,
      "outputs": [
        {
          "output_type": "stream",
          "name": "stdout",
          "text": [
            "+---+----------------+--------------------+--------------------+--------------------+---------------------+--------------------+\n",
            "| ID|EntirelyFlatTest|  ArrayOfNonIterable|     ArrayOfIterable|   SingleLeveLStruct|HeavilyNestedExample1| ArrayOfIterable_MOD|\n",
            "+---+----------------+--------------------+--------------------+--------------------+---------------------+--------------------+\n",
            "|  1|         value_1|[value_2, value_3...|[{value_6, {value...|{value_6, value_7...| {value_6, {value_...|[{VALUE_6, VALUE_...|\n",
            "+---+----------------+--------------------+--------------------+--------------------+---------------------+--------------------+\n",
            "\n"
          ]
        }
      ]
    },
    {
      "cell_type": "code",
      "source": [],
      "metadata": {
        "id": "WKUptgJtMGRn"
      },
      "execution_count": null,
      "outputs": []
    }
  ]
}